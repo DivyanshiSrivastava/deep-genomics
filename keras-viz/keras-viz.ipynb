{
 "cells": [
  {
   "cell_type": "code",
   "execution_count": 1,
   "metadata": {
    "collapsed": false
   },
   "outputs": [
    {
     "name": "stderr",
     "output_type": "stream",
     "text": [
      "Using TensorFlow backend.\n"
     ]
    },
    {
     "name": "stdout",
     "output_type": "stream",
     "text": [
      "tensorflow\n"
     ]
    }
   ],
   "source": [
    "from keras.models import Sequential\n",
    "from keras.layers import Dense, Dropout, Activation, Flatten, Reshape\n",
    "from keras.layers import Conv1D, MaxPooling1D\n",
    "from keras.optimizers import SGD, Adagrad, Adam\n",
    "from keras.callbacks import EarlyStopping\n",
    "import read\n",
    "import numpy as np\n",
    "import sklearn.metrics\n",
    "from sklearn.model_selection import train_test_split\n",
    "from keras.models import model_from_yaml\n",
    "from keras import backend as K\n",
    "print K.backend()\n",
    "import tensorflow\n",
    "from keras.callbacks import * "
   ]
  },
  {
   "cell_type": "code",
   "execution_count": 2,
   "metadata": {
    "collapsed": true
   },
   "outputs": [],
   "source": [
    "def keras_model():\n",
    "\n",
    "    model = Sequential()\n",
    "    \n",
    "    #model.add(Reshape((n, 4), input_shape=(n*4,)))\n",
    "    \n",
    "    model.add(Conv1D(32, 20, padding=\"same\", input_shape=(n, 4,)))\n",
    "    print model.input_shape\n",
    "    print model.output_shape\n",
    "    model.add(Activation('relu'))\n",
    "    print model.output_shape\n",
    "    model.add(MaxPooling1D(padding=\"same\", strides=None, pool_size=200))\n",
    "\n",
    "    # after Max Pooling\n",
    "    print model.output_shape\n",
    "\n",
    "    model.add(Flatten())\n",
    "    print model.output_shape\n",
    "    model.add(Dense(512))\n",
    "\n",
    "    # Flattened \n",
    "    print model.output_shape\n",
    "\n",
    "    model.add(Activation('relu'))\n",
    "    model.add(Dropout(0.5))\n",
    "    model.add(Dense(1))\n",
    "\n",
    "    # Finally\n",
    "    print model.output_shape\n",
    "\n",
    "    model.add(Activation('sigmoid'))\n",
    "    return model"
   ]
  },
  {
   "cell_type": "code",
   "execution_count": 3,
   "metadata": {
    "collapsed": false
   },
   "outputs": [],
   "source": [
    "# using the abstract base class Callback to monitor test auPRC at each epoch. \n",
    "class TestCallback(Callback):\n",
    "    def __init__(self, test_data):\n",
    "        self.test_data = test_data\n",
    "\n",
    "    def on_epoch_end(self, epoch, logs={}):\n",
    "        x, y = self.test_data\n",
    "        probas = self.model.predict_on_batch(x)\n",
    "        auprc = sklearn.metrics.average_precision_score(y, probas)\n",
    "        #loss, acc = self.model.evaluate(x, y, verbose=0)\n",
    "        print('\\nTest auprc: {}\\n'.format(auprc))\n"
   ]
  },
  {
   "cell_type": "code",
   "execution_count": 5,
   "metadata": {
    "collapsed": false
   },
   "outputs": [],
   "source": [
    "def train_and_test(X_train, y_train, X_test, y_test, n):\n",
    "\n",
    "    model = keras_model()\n",
    "    sgd = SGD(lr=0.01, decay=1e-6, momentum=0.9, nesterov=True)\n",
    "    model.compile(loss='binary_crossentropy', optimizer=sgd, metrics=['accuracy'])\n",
    "    early_stopping = EarlyStopping(monitor='val_loss', patience=3, verbose=1)\n",
    "    hist = model.fit(X_train, y_train, validation_split=0.1, callbacks=[early_stopping, TestCallback((X_test_rs,y_test))], batch_size= 200, nb_epoch= 8)\n",
    "    #hist = model.fit(X_train, y_train, validation_split=0.1, batch_size= 200, shuffle = False, nb_epoch= 10)\n",
    "    print hist.history\n",
    "    probas = model.predict_on_batch(X_test_rs)\n",
    "    print sklearn.metrics.average_precision_score(y_test, probas)\n",
    "    np.savetxt(\"probas\", probas)\n",
    "    print \"Done\"\n",
    "    return model, probas"
   ]
  },
  {
   "cell_type": "code",
   "execution_count": 10,
   "metadata": {
    "collapsed": false,
    "scrolled": true
   },
   "outputs": [
    {
     "name": "stdout",
     "output_type": "stream",
     "text": [
      "Done\n"
     ]
    }
   ],
   "source": [
    "n = 200\n",
    "X,y = read.get_matrix(\"twoclass.rev.txt\")\n",
    "X_train, X_test, y_train, y_test = train_test_split(X, y, test_size=0.1, random_state=42)\n",
    "print \"Done\""
   ]
  },
  {
   "cell_type": "code",
   "execution_count": 11,
   "metadata": {
    "collapsed": false
   },
   "outputs": [],
   "source": [
    "K.image_data_format()\n",
    "X_train_rs = np.reshape(X_train, (-1,200,4))\n",
    "X_test_rs = np.reshape(X_test, (-1,200,4))"
   ]
  },
  {
   "cell_type": "code",
   "execution_count": 12,
   "metadata": {
    "collapsed": false,
    "scrolled": false
   },
   "outputs": [
    {
     "name": "stdout",
     "output_type": "stream",
     "text": [
      "[[0 0 1 ..., 0 1 0]\n",
      " [0 1 0 ..., 0 0 1]\n",
      " [0 0 1 ..., 0 1 0]\n",
      " ..., \n",
      " [0 0 1 ..., 0 0 0]\n",
      " [0 0 1 ..., 0 1 0]\n",
      " [0 1 0 ..., 0 0 0]]\n",
      "[0 1 0 ..., 0 0 1]\n",
      "Start\n",
      "(None, 200, 4)\n",
      "(None, 200, 32)\n",
      "(None, 200, 32)\n",
      "(None, 1, 32)\n",
      "(None, 32)\n",
      "(None, 512)\n",
      "(None, 1)\n",
      "Train on 22304 samples, validate on 2479 samples\n",
      "Epoch 1/8\n",
      "22200/22304 [============================>.] - ETA: 0s - loss: 0.6865 - acc: 0.5535\n",
      "Test auprc: 0.593064483615\n",
      "\n",
      "22304/22304 [==============================] - 3s - loss: 0.6865 - acc: 0.5534 - val_loss: 0.6853 - val_acc: 0.5486\n",
      "Epoch 2/8\n",
      "22000/22304 [============================>.] - ETA: 0s - loss: 0.6774 - acc: 0.5658\n",
      "Test auprc: 0.751912012357\n",
      "\n",
      "22304/22304 [==============================] - 3s - loss: 0.6772 - acc: 0.5657 - val_loss: 0.6641 - val_acc: 0.5502\n",
      "Epoch 3/8\n",
      "22200/22304 [============================>.] - ETA: 0s - loss: 0.5977 - acc: 0.7135\n",
      "Test auprc: 0.895250437374\n",
      "\n",
      "22304/22304 [==============================] - 3s - loss: 0.5971 - acc: 0.7143 - val_loss: 0.4665 - val_acc: 0.8556\n",
      "Epoch 4/8\n",
      "22200/22304 [============================>.] - ETA: 0s - loss: 0.3507 - acc: 0.8723\n",
      "Test auprc: 0.951236414873\n",
      "\n",
      "22304/22304 [==============================] - 3s - loss: 0.3508 - acc: 0.8723 - val_loss: 0.2550 - val_acc: 0.9169\n",
      "Epoch 5/8\n",
      "22200/22304 [============================>.] - ETA: 0s - loss: 0.2504 - acc: 0.9045\n",
      "Test auprc: 0.957775559765\n",
      "\n",
      "22304/22304 [==============================] - 3s - loss: 0.2501 - acc: 0.9045 - val_loss: 0.2233 - val_acc: 0.9185\n",
      "Epoch 6/8\n",
      "22000/22304 [============================>.] - ETA: 0s - loss: 0.2315 - acc: 0.9122\n",
      "Test auprc: 0.959834954021\n",
      "\n",
      "22304/22304 [==============================] - 3s - loss: 0.2312 - acc: 0.9124 - val_loss: 0.2155 - val_acc: 0.9169\n",
      "Epoch 7/8\n",
      "22000/22304 [============================>.] - ETA: 0s - loss: 0.2201 - acc: 0.9155\n",
      "Test auprc: 0.963880370834\n",
      "\n",
      "22304/22304 [==============================] - 3s - loss: 0.2203 - acc: 0.9153 - val_loss: 0.2099 - val_acc: 0.9205\n",
      "Epoch 8/8\n",
      "22200/22304 [============================>.] - ETA: 0s - loss: 0.2121 - acc: 0.9183\n",
      "Test auprc: 0.964639525731\n",
      "\n",
      "22304/22304 [==============================] - 3s - loss: 0.2119 - acc: 0.9183 - val_loss: 0.2301 - val_acc: 0.9109\n",
      "{'acc': [0.55339849342617453, 0.56568328555208369, 0.71426649857713298, 0.87226506610169818, 0.90450143286025675, 0.91243723041272407, 0.91526183652740978, 0.91831061754968968], 'loss': [0.68652047201926947, 0.67719232969766363, 0.59710929931877677, 0.3507691164056061, 0.25013501994536291, 0.23122553122757669, 0.22034344870271094, 0.2119379156460208], 'val_acc': [0.54860830659248883, 0.5502218589060438, 0.85558693225752114, 0.91690197167448484, 0.91851553288425536, 0.91690198057070049, 0.92053246991006343, 0.91085115266259808], 'val_loss': [0.68531333936131156, 0.66411147455670938, 0.46648794717969505, 0.25495874774148264, 0.22334098512965761, 0.2155488886603332, 0.20987527184233448, 0.23012873055522315]}\n",
      "0.964639525731\n",
      "Done\n",
      "Done\n"
     ]
    }
   ],
   "source": [
    "print X_train\n",
    "print y_train\n",
    "\n",
    "print \"Start\"\n",
    "model, probas = train_and_test(X_train_rs, y_train, X_test, y_test, n)\n",
    "print \"Done\""
   ]
  },
  {
   "cell_type": "code",
   "execution_count": 13,
   "metadata": {
    "collapsed": false
   },
   "outputs": [
    {
     "name": "stdout",
     "output_type": "stream",
     "text": [
      "0.971114162658\n"
     ]
    }
   ],
   "source": [
    "import matplotlib.pyplot as plt\n",
    "from sklearn.metrics import roc_auc_score\n",
    "from sklearn.metrics import roc_curve\n",
    "\n",
    "# compute area under the roc curve\n",
    "roc_auc = sklearn.metrics.roc_auc_score(y_test, probas)\n",
    "print roc_auc\n",
    "\n",
    "# compute the roc curve\n",
    "fpr, tpr, thresholds = roc_curve(y_test, probas, pos_label=1)\n",
    "\n",
    "plt.plot(fpr, tpr, color='darkorange', lw=2, label='ROC curve (area = %0.2f)' % roc_auc)\n",
    "plt.title(\"ROC curve\")\n",
    "plt.xlabel(\"True Positive Rate\")\n",
    "plt.ylabel(\"False Postive Rate\")\n",
    "plt.savefig(\"ROC Curve\")"
   ]
  },
  {
   "cell_type": "code",
   "execution_count": 14,
   "metadata": {
    "collapsed": false
   },
   "outputs": [
    {
     "name": "stdout",
     "output_type": "stream",
     "text": [
      "Trained miodel\n",
      "<keras.models.Sequential object at 0x11ac99fd0>\n",
      "{'activation': 'sigmoid', 'trainable': True, 'name': 'activation_6'}\n"
     ]
    }
   ],
   "source": [
    "# Trained\n",
    "print \"Trained miodel\"\n",
    "print model\n",
    "print model.layers[-1].get_config()"
   ]
  },
  {
   "cell_type": "code",
   "execution_count": 15,
   "metadata": {
    "collapsed": false
   },
   "outputs": [],
   "source": [
    "## Using the fucntional API. This method returns a function to find saliency given input and learning phase. \n",
    "def compile_saliency_function(model):\n",
    "    \n",
    "    inp = model.layers[0].input\n",
    "    outp = model.layers[-1].output\n",
    "    print inp\n",
    "    print outp\n",
    "    max_output = K.max(outp, axis=1)\n",
    "    print max_output\n",
    "    saliency = K.gradients(K.sum(max_output), inp)[0]\n",
    "    print saliency\n",
    "    return K.function([inp, K.learning_phase()], [saliency])"
   ]
  },
  {
   "cell_type": "code",
   "execution_count": 16,
   "metadata": {
    "collapsed": false,
    "scrolled": true
   },
   "outputs": [
    {
     "name": "stdout",
     "output_type": "stream",
     "text": [
      "Tensor(\"conv1d_2_input:0\", shape=(?, 200, 4), dtype=float32)\n",
      "Tensor(\"activation_6/Sigmoid:0\", shape=(?, 1), dtype=float32)\n",
      "Tensor(\"Max:0\", shape=(?,), dtype=float32)\n",
      "Tensor(\"gradients_2/conv1d_2/convolution/ExpandDims_grad/Reshape:0\", shape=(?, 200, 4), dtype=float32)\n"
     ]
    }
   ],
   "source": [
    "## saliency_fn on the given model. \n",
    "saliency_fn = compile_saliency_function(model)"
   ]
  },
  {
   "cell_type": "code",
   "execution_count": 19,
   "metadata": {
    "collapsed": false
   },
   "outputs": [
    {
     "name": "stdout",
     "output_type": "stream",
     "text": [
      "[[ 0.84333718]\n",
      " [ 0.00560895]\n",
      " [ 0.01322296]\n",
      " ..., \n",
      " [ 0.76491708]\n",
      " [ 0.94561613]\n",
      " [ 0.07547823]]\n",
      "(2754, 1)\n",
      "(2754, 200, 4)\n",
      "(2754,)\n",
      "[1 0 0 ..., 0 0 0]\n"
     ]
    }
   ],
   "source": [
    "print probas\n",
    "print probas.shape\n",
    "print X_test_rs.shape\n",
    "print y_test.shape\n",
    "print y_test\n",
    "confidence= np.ravel(np.argsort(probas, axis = 0)[::-1])\n",
    "probas_sorted = probas[confidence]\n",
    "\n",
    "\n",
    "top = X_test_rs[confidence[:1500],:,:]\n",
    "topy = y_test[confidence[:1500]]\n",
    "top_probs = probas[confidence[:1500]]\n",
    "\n",
    "bottom  = X_test_rs[confidence[2054:],:,:]\n",
    "bottomy = y_test[confidence[2054:]]\n",
    "bottom_probs = probas[confidence[2054:]]"
   ]
  },
  {
   "cell_type": "code",
   "execution_count": 18,
   "metadata": {
    "collapsed": false
   },
   "outputs": [
    {
     "name": "stdout",
     "output_type": "stream",
     "text": [
      "[1291 1395 1866 ..., 2656  852  362]\n",
      "(100, 200, 4)\n",
      "(100, 200, 4)\n"
     ]
    }
   ],
   "source": [
    "## grad * input\n",
    "\n",
    "# Top are Ngn2 # Reverse Coded, Top should be Ngn2\n",
    "# Bottom are Ascl1\n",
    "\n",
    "confidence= np.ravel(np.argsort(probas, axis = 0)[::-1])\n",
    "print confidence\n",
    "top = X_test_rs[confidence[:100],:,:]\n",
    "print top.shape\n",
    "print X_test_rs[:100].shape"
   ]
  },
  {
   "cell_type": "code",
   "execution_count": 25,
   "metadata": {
    "collapsed": false,
    "scrolled": false
   },
   "outputs": [
    {
     "data": {
      "image/png": "[encoded data removed]",
      "text/plain": [
       "<matplotlib.figure.Figure at 0x1458b3550>"
      ]
     },
     "metadata": {},
     "output_type": "display_data"
    }
   ],
   "source": [
    "%matplotlib inline\n",
    "idx = 100# Index we want to observe\n",
    "\n",
    "# Ngn2 is coded as 1. So top probs are predicting Ngn2.\n",
    "#print top[idx]\n",
    "#print top_probs[idx]\n",
    "\n",
    "#print probas\n",
    "arr_sal = saliency_fn([top, 0])\n",
    "outp = (np.asarray(arr_sal))[0][idx]\n",
    "grad_star_inp = outp * top[idx]\n",
    "\n",
    "#change encoding order to match deeplift viz\n",
    "#print grad_star_inp\n",
    "\n",
    "dl_scores = np.transpose(np.vstack((grad_star_inp[:][:,0],grad_star_inp[:][:,3],grad_star_inp[:][:,2],\n",
    "                              grad_star_inp[:][:,1])))\n",
    "from deeplift.visualization import viz_sequence\n",
    "viz_sequence.plot_weights(dl_scores, subticks_frequency=10)"
   ]
  },
  {
   "cell_type": "code",
   "execution_count": 23,
   "metadata": {
    "collapsed": false
   },
   "outputs": [
    {
     "name": "stdout",
     "output_type": "stream",
     "text": [
      "(20, 4, 32)\n",
      "(32,)\n"
     ]
    }
   ],
   "source": [
    "## Interpreting Fitlers.\n",
    "W,b = model.layers[0].get_weights()\n",
    "print W.shape\n",
    "print b.shape\n",
    "\n",
    "# dim1 = filter length\n",
    "# dim2 = A,T,G,C\n",
    "# dim3 = filter number\n",
    "\n",
    "\n",
    "def get_filter(nb, W):\n",
    "    A = list()\n",
    "    T = list()\n",
    "    G = list()\n",
    "    C = list()\n",
    "    for position in range(20):\n",
    "        A.append(W[position][0][nb])\n",
    "        T.append(W[position][1][nb])\n",
    "        G.append(W[position][2][nb])\n",
    "        C.append(W[position][3][nb])\n",
    "        filter_cnn = np.vstack((A,T,G,C))\n",
    "        # So these are the weights of the 4 channels for the first filter\n",
    "        np.savetxt(\"filter\" + str(nb), filter_cnn)\n",
    "\n",
    "for i in range(32):\n",
    "    get_filter(i,W)"
   ]
  },
  {
   "cell_type": "code",
   "execution_count": null,
   "metadata": {
    "collapsed": true
   },
   "outputs": [],
   "source": [
    "# Serialising model to yaml\n",
    "yamlstr = model.to_yaml()"
   ]
  },
  {
   "cell_type": "code",
   "execution_count": 26,
   "metadata": {
    "collapsed": false
   },
   "outputs": [
    {
     "name": "stdout",
     "output_type": "stream",
     "text": [
      "Done\n"
     ]
    }
   ],
   "source": [
    "# Saving model as yaml file. (Switch to json. Was using yaml for deeplift compatibility but that doesn't work \n",
    "# for me yet anyway. )\n",
    "with open(\"CTCF_model.yaml\", \"w\") as yaml_file:\n",
    "    yaml_file.write(yamlstr)\n",
    "print \"Done\""
   ]
  }
 ],
 "metadata": {
  "kernelspec": {
   "display_name": "Python 2",
   "language": "python",
   "name": "python2"
  },
  "language_info": {
   "codemirror_mode": {
    "name": "ipython",
    "version": 2
   },
   "file_extension": ".py",
   "mimetype": "text/x-python",
   "name": "python",
   "nbconvert_exporter": "python",
   "pygments_lexer": "ipython2",
   "version": "2.7.12"
  }
 },
 "nbformat": 4,
 "nbformat_minor": 0
}
