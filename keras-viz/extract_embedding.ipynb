{
 "cells": [
  {
   "cell_type": "code",
   "execution_count": 1,
   "metadata": {
    "collapsed": false
   },
   "outputs": [
    {
     "name": "stderr",
     "output_type": "stream",
     "text": [
      "Using TensorFlow backend.\n"
     ]
    },
    {
     "name": "stdout",
     "output_type": "stream",
     "text": [
      "tensorflow\n"
     ]
    }
   ],
   "source": [
    "from keras.models import Sequential\n",
    "from keras.layers import Dense, Dropout, Activation, Flatten, Reshape\n",
    "from keras.layers import Conv1D, MaxPooling1D\n",
    "from keras.optimizers import SGD, Adagrad, Adam\n",
    "from keras.callbacks import EarlyStopping\n",
    "import readm\n",
    "import numpy as np\n",
    "import sklearn.metrics\n",
    "from sklearn.model_selection import train_test_split\n",
    "from keras.models import model_from_yaml\n",
    "from keras import backend as K\n",
    "print K.backend()\n",
    "import tensorflow\n",
    "from keras.callbacks import * "
   ]
  },
  {
   "cell_type": "code",
   "execution_count": 2,
   "metadata": {
    "collapsed": true
   },
   "outputs": [],
   "source": [
    "def keras_model():\n",
    "\n",
    "    model = Sequential()\n",
    "    \n",
    "    #model.add(Reshape((n, 4), input_shape=(n*4,)))\n",
    "    \n",
    "    model.add(Conv1D(32, 20, padding=\"same\", input_shape=(n, 4,)))\n",
    "    print model.input_shape\n",
    "    print model.output_shape\n",
    "    model.add(Activation('relu'))\n",
    "    print model.output_shape\n",
    "    model.add(MaxPooling1D(padding=\"same\", strides=None, pool_size=200))\n",
    "\n",
    "    # after Max Pooling\n",
    "    print model.output_shape\n",
    "\n",
    "    model.add(Flatten())\n",
    "    print model.output_shape\n",
    "    model.add(Dense(512))\n",
    "\n",
    "    # Flattened \n",
    "    print model.output_shape\n",
    "\n",
    "    model.add(Activation('relu'))\n",
    "    model.add(Dropout(0.5))\n",
    "    model.add(Dense(1))\n",
    "\n",
    "    # Finally\n",
    "    print model.output_shape\n",
    "\n",
    "    model.add(Activation('sigmoid'))\n",
    "    return model"
   ]
  },
  {
   "cell_type": "code",
   "execution_count": 3,
   "metadata": {
    "collapsed": false
   },
   "outputs": [],
   "source": [
    "def train_and_test(X_train, y_train, X_test, y_test, n):\n",
    "\n",
    "    model = keras_model()\n",
    "    sgd = SGD(lr=0.01, decay=1e-6, momentum=0.9, nesterov=True)\n",
    "    model.compile(loss='binary_crossentropy', optimizer=sgd, metrics=['accuracy'])\n",
    "    early_stopping = EarlyStopping(monitor='val_loss', patience=3, verbose=1)\n",
    "    hist = model.fit(X_train, y_train, validation_split=0.05, callbacks=[early_stopping], batch_size= 200, nb_epoch= 10)\n",
    "    print hist.history\n",
    "    probas = model.predict_on_batch(X_test_rs)\n",
    "    print sklearn.metrics.average_precision_score(y_test, probas)\n",
    "    return model, probas"
   ]
  },
  {
   "cell_type": "code",
   "execution_count": 7,
   "metadata": {
    "collapsed": false,
    "scrolled": true
   },
   "outputs": [],
   "source": [
    "n = 200\n",
    "X = readm.get_matrix(\"/Users/divyanshisrivastava/Desktop/Scripts/deep-genomics/keras-viz/c9_all.shuf.txt\")\n",
    "y = readm.get_labels(\"/Users/divyanshisrivastava/Desktop/Scripts/deep-genomics/keras-viz/c9_all.shuf.labels\")"
   ]
  },
  {
   "cell_type": "code",
   "execution_count": 27,
   "metadata": {
    "collapsed": false
   },
   "outputs": [
    {
     "name": "stdout",
     "output_type": "stream",
     "text": [
      "Done\n"
     ]
    }
   ],
   "source": [
    "X_train, X_test, y_train, y_test = train_test_split(X, y, test_size=0.1, random_state=42)\n",
    "y_binary_train = np.array([dp if dp <= 1 else dp-1 for dp in y_train]) \n",
    "y_binary_test = np.array([dp if dp <= 1 else dp-1 for dp in y_test])\n",
    "print \"Done\""
   ]
  },
  {
   "cell_type": "code",
   "execution_count": 26,
   "metadata": {
    "collapsed": false
   },
   "outputs": [],
   "source": [
    "K.image_data_format()\n",
    "X_train_rs = np.reshape(X_train, (-1,200,4))\n",
    "X_test_rs = np.reshape(X_test, (-1,200,4))"
   ]
  },
  {
   "cell_type": "code",
   "execution_count": 28,
   "metadata": {
    "collapsed": false,
    "scrolled": false
   },
   "outputs": [
    {
     "name": "stdout",
     "output_type": "stream",
     "text": [
      "[[0 0 1 ..., 0 0 1]\n",
      " [1 0 0 ..., 1 0 0]\n",
      " [1 0 0 ..., 0 1 0]\n",
      " ..., \n",
      " [0 0 0 ..., 0 1 0]\n",
      " [1 0 0 ..., 0 0 1]\n",
      " [0 0 1 ..., 1 0 0]]\n",
      "[ 1.  0.  1. ...,  1.  2.  1.]\n",
      "Start\n",
      "(None, 200, 4)\n",
      "(None, 200, 32)\n",
      "(None, 200, 32)\n",
      "(None, 1, 32)\n",
      "(None, 32)\n",
      "(None, 512)\n",
      "(None, 1)\n"
     ]
    },
    {
     "name": "stderr",
     "output_type": "stream",
     "text": [
      "/Users/divyanshisrivastava/anaconda/lib/python2.7/site-packages/Keras-2.0.3-py2.7.egg/keras/models.py:834: UserWarning: The `nb_epoch` argument in `fit` has been renamed `epochs`.\n",
      "  warnings.warn('The `nb_epoch` argument in `fit` '\n"
     ]
    },
    {
     "name": "stdout",
     "output_type": "stream",
     "text": [
      "Train on 21597 samples, validate on 1137 samples\n",
      "Epoch 1/10\n",
      "21597/21597 [==============================] - 3s - loss: 0.6943 - acc: 0.5026 - val_loss: 0.6925 - val_acc: 0.5040\n",
      "Epoch 2/10\n",
      "21597/21597 [==============================] - 3s - loss: 0.6913 - acc: 0.5266 - val_loss: 0.6891 - val_acc: 0.5989\n",
      "Epoch 3/10\n",
      "21597/21597 [==============================] - 2s - loss: 0.6851 - acc: 0.5829 - val_loss: 0.6799 - val_acc: 0.6517\n",
      "Epoch 4/10\n",
      "21597/21597 [==============================] - 3s - loss: 0.6660 - acc: 0.6746 - val_loss: 0.6493 - val_acc: 0.7485\n",
      "Epoch 5/10\n",
      "21597/21597 [==============================] - 2s - loss: 0.6023 - acc: 0.7581 - val_loss: 0.5547 - val_acc: 0.7845\n",
      "Epoch 6/10\n",
      "21597/21597 [==============================] - 2s - loss: 0.4817 - acc: 0.8039 - val_loss: 0.4477 - val_acc: 0.8083\n",
      "Epoch 7/10\n",
      "21597/21597 [==============================] - 2s - loss: 0.4001 - acc: 0.8294 - val_loss: 0.4037 - val_acc: 0.8329\n",
      "Epoch 8/10\n",
      "21597/21597 [==============================] - 2s - loss: 0.3608 - acc: 0.8456 - val_loss: 0.4066 - val_acc: 0.8179\n",
      "Epoch 9/10\n",
      "21597/21597 [==============================] - 2s - loss: 0.3434 - acc: 0.8506 - val_loss: 0.3671 - val_acc: 0.8338\n",
      "Epoch 10/10\n",
      "21597/21597 [==============================] - 2s - loss: 0.3259 - acc: 0.8614 - val_loss: 0.3682 - val_acc: 0.8391\n",
      "{'acc': [0.50256980052230349, 0.52664721973097894, 0.58285873184470371, 0.67458443215926966, 0.75806825214079887, 0.80386164644920655, 0.82942075330736287, 0.84562670988865896, 0.85058109793237124, 0.86136963494194818], 'loss': [0.6943268332568816, 0.6912502775745557, 0.68505149182221481, 0.66599945211021938, 0.6023449007822429, 0.48174335533680507, 0.4001096360423021, 0.3608266092364576, 0.34339928229318678, 0.32585738963118616], 'val_acc': [0.5039577875728658, 0.59894458652066895, 0.65171505137295083, 0.74846085279577113, 0.78452068043048695, 0.80826736005021482, 0.83289359007997266, 0.81794194826035516, 0.8337730967170226, 0.83905015976259134], 'val_loss': [0.69247976959852553, 0.6891302114111767, 0.67993242738534199, 0.64929186820774198, 0.5547061030447431, 0.44765633433768909, 0.40374619403007056, 0.40655576606119737, 0.36710009757321238, 0.36816251167835851]}\n",
      "0.932278624528\n",
      "Done\n"
     ]
    }
   ],
   "source": [
    "print X_train\n",
    "print y_train\n",
    "\n",
    "print \"Start\"\n",
    "model, probas = train_and_test(X_train_rs, y_binary_train, X_test, y_binary_test, n)\n",
    "print \"Done\""
   ]
  },
  {
   "cell_type": "code",
   "execution_count": 13,
   "metadata": {
    "collapsed": false
   },
   "outputs": [
    {
     "name": "stdout",
     "output_type": "stream",
     "text": [
      "0.971114162658\n"
     ]
    }
   ],
   "source": [
    "import matplotlib.pyplot as plt\n",
    "from sklearn.metrics import roc_auc_score\n",
    "from sklearn.metrics import roc_curve\n",
    "\n",
    "# compute area under the roc curve\n",
    "roc_auc = sklearn.metrics.roc_auc_score(y_test, probas)\n",
    "print roc_auc\n",
    "\n",
    "# compute the roc curve\n",
    "fpr, tpr, thresholds = roc_curve(y_test, probas, pos_label=1)\n",
    "\n",
    "plt.plot(fpr, tpr, color='darkorange', lw=2, label='ROC curve (area = %0.2f)' % roc_auc)\n",
    "plt.title(\"ROC curve\")\n",
    "plt.xlabel(\"True Positive Rate\")\n",
    "plt.ylabel(\"False Postive Rate\")\n",
    "plt.savefig(\"ROC Curve\")"
   ]
  },
  {
   "cell_type": "code",
   "execution_count": 12,
   "metadata": {
    "collapsed": false
   },
   "outputs": [
    {
     "name": "stdout",
     "output_type": "stream",
     "text": [
      "Trained miodel\n",
      "<keras.models.Sequential object at 0x12910b5d0>\n",
      "{'activation': 'sigmoid', 'trainable': True, 'name': 'activation_6'}\n"
     ]
    }
   ],
   "source": [
    "print \"Trained miodel\"\n",
    "print model\n",
    "print model.layers[-1].get_config()"
   ]
  },
  {
   "cell_type": "code",
   "execution_count": 29,
   "metadata": {
    "collapsed": true
   },
   "outputs": [],
   "source": [
    "def complie_extractembeddingfunc(model):\n",
    "    inp = model.layers[0].input\n",
    "    outp = model.layers[5].output\n",
    "    print inp\n",
    "    print outp\n",
    "    return K.function([inp, K.learning_phase()],[outp])"
   ]
  },
  {
   "cell_type": "code",
   "execution_count": 30,
   "metadata": {
    "collapsed": false
   },
   "outputs": [
    {
     "name": "stdout",
     "output_type": "stream",
     "text": [
      "Tensor(\"conv1d_1_input:0\", shape=(?, 200, 4), dtype=float32)\n",
      "Tensor(\"activation_2/Relu:0\", shape=(?, 512), dtype=float32)\n"
     ]
    }
   ],
   "source": [
    "extract_embedding = complie_extractembeddingfunc(model)"
   ]
  },
  {
   "cell_type": "code",
   "execution_count": 31,
   "metadata": {
    "collapsed": false
   },
   "outputs": [
    {
     "name": "stdout",
     "output_type": "stream",
     "text": [
      "(1, 2526, 512)\n",
      "(2526, 512)\n"
     ]
    }
   ],
   "source": [
    "outp = np.array(extract_embedding([X_test_rs,0]))\n",
    "print outp.shape\n",
    "outvec = np.reshape(outp,(outp.shape[1],512))\n",
    "print outvec.shape\n",
    "\n",
    "np.savetxt(\"outvec.txt\", outvec)\n",
    "np.savetxt(\"labels.txt\", y_test)"
   ]
  },
  {
   "cell_type": "code",
   "execution_count": null,
   "metadata": {
    "collapsed": true
   },
   "outputs": [],
   "source": []
  }
 ],
 "metadata": {
  "kernelspec": {
   "display_name": "Python 2",
   "language": "python",
   "name": "python2"
  },
  "language_info": {
   "codemirror_mode": {
    "name": "ipython",
    "version": 2
   },
   "file_extension": ".py",
   "mimetype": "text/x-python",
   "name": "python",
   "nbconvert_exporter": "python",
   "pygments_lexer": "ipython2",
   "version": "2.7.12"
  }
 },
 "nbformat": 4,
 "nbformat_minor": 0
}
