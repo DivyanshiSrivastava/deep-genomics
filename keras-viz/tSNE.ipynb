{
 "cells": [
  {
   "cell_type": "code",
   "execution_count": 1,
   "metadata": {
    "collapsed": false
   },
   "outputs": [],
   "source": [
    "from sklearn.manifold import TSNE\n",
    "import numpy as np\n",
    "\n",
    "y = np.loadtxt(\"labels.txt\")\n",
    "X = np.loadtxt(\"outvec.txt\")    "
   ]
  },
  {
   "cell_type": "code",
   "execution_count": 2,
   "metadata": {
    "collapsed": false
   },
   "outputs": [
    {
     "name": "stdout",
     "output_type": "stream",
     "text": [
      "[[ 0.81099079 -6.5088259 ]\n",
      " [-2.11756514 -4.927546  ]\n",
      " [-9.16114104 -1.95099817]\n",
      " ..., \n",
      " [-4.98662668  2.94249956]\n",
      " [-1.94179222  4.27555724]\n",
      " [-5.19852987 -8.90776319]]\n",
      "(2526, 2)\n"
     ]
    }
   ],
   "source": [
    "model = TSNE(n_components = 2)\n",
    "reduced = model.fit_transform(X)\n",
    "print reduced\n",
    "print reduced.shape"
   ]
  },
  {
   "cell_type": "code",
   "execution_count": 6,
   "metadata": {
    "collapsed": false
   },
   "outputs": [
    {
     "name": "stdout",
     "output_type": "stream",
     "text": [
      "[ 2.  2.  0.  1.  0.  1.  2.  0.  0.  1.  2.  0.  2.  2.  1.  1.  0.  0.\n",
      "  0.  2.  2.  0.  0.  2.  1.  2.  0.  0.  0.  1.]\n"
     ]
    }
   ],
   "source": [
    "print y[:30]"
   ]
  },
  {
   "cell_type": "code",
   "execution_count": 8,
   "metadata": {
    "collapsed": false
   },
   "outputs": [],
   "source": [
    "import matplotlib\n",
    "import matplotlib.pyplot as plt\n",
    "\n",
    "plotcolors = ['green' if dp == 0 else 'blue' for dp in y]\n",
    "\n",
    "plt.figure()\n",
    "plt.scatter(reduced[:,0], reduced[:,1], c = plotcolors)\n",
    "plt.title(\"TSNE-CNN Embedding\")\n",
    "plt.xlabel(\"Dimension 1\")\n",
    "plt.ylabel(\"Dimension 2\")\n",
    "plt.legend()\n",
    "plt.grid(True, color = \"k\")\n",
    "plt.show()\n",
    "#plt.savefig(\"tSNE2.pdf\")"
   ]
  }
 ],
 "metadata": {
  "kernelspec": {
   "display_name": "Python 2",
   "language": "python",
   "name": "python2"
  },
  "language_info": {
   "codemirror_mode": {
    "name": "ipython",
    "version": 2
   },
   "file_extension": ".py",
   "mimetype": "text/x-python",
   "name": "python",
   "nbconvert_exporter": "python",
   "pygments_lexer": "ipython2",
   "version": "2.7.12"
  }
 },
 "nbformat": 4,
 "nbformat_minor": 0
}
