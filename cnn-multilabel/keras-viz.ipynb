{
 "cells": [
  {
   "cell_type": "code",
   "execution_count": 1,
   "metadata": {
    "collapsed": false
   },
   "outputs": [
    {
     "name": "stderr",
     "output_type": "stream",
     "text": [
      "Using TensorFlow backend.\n"
     ]
    },
    {
     "name": "stdout",
     "output_type": "stream",
     "text": [
      "tensorflow\n"
     ]
    }
   ],
   "source": [
    "from keras.models import Sequential\n",
    "from keras.layers import Dense, Dropout, Activation, Flatten, Reshape\n",
    "from keras.layers import Conv1D, MaxPooling1D\n",
    "from keras.optimizers import SGD, Adagrad, Adam\n",
    "from keras.callbacks import EarlyStopping\n",
    "import read\n",
    "import numpy as np\n",
    "import sklearn.metrics\n",
    "from sklearn.model_selection import train_test_split\n",
    "from keras.models import model_from_yaml\n",
    "from keras import backend as K\n",
    "print K.backend()\n",
    "import tensorflow\n",
    "from keras.callbacks import * "
   ]
  },
  {
   "cell_type": "code",
   "execution_count": 2,
   "metadata": {
    "collapsed": true
   },
   "outputs": [],
   "source": [
    "def keras_model():\n",
    "\n",
    "    model = Sequential()\n",
    "    \n",
    "    #model.add(Reshape((n, 4), input_shape=(n*4,)))\n",
    "    \n",
    "    model.add(Conv1D(32, 20, padding=\"same\", input_shape=(n, 4,)))\n",
    "    print model.input_shape\n",
    "    print model.output_shape\n",
    "    model.add(Activation('relu'))\n",
    "    print model.output_shape\n",
    "    model.add(MaxPooling1D(padding=\"same\", strides=None, pool_size=200))\n",
    "\n",
    "    # after Max Pooling\n",
    "    print model.output_shape\n",
    "\n",
    "    model.add(Flatten())\n",
    "    print model.output_shape\n",
    "    model.add(Dense(512))\n",
    "\n",
    "    # Flattened \n",
    "    print model.output_shape\n",
    "\n",
    "    model.add(Activation('relu'))\n",
    "    model.add(Dropout(0.5))\n",
    "    model.add(Dense(1))\n",
    "\n",
    "    # Finally\n",
    "    print model.output_shape\n",
    "\n",
    "    model.add(Activation('sigmoid'))\n",
    "    return model"
   ]
  },
  {
   "cell_type": "code",
   "execution_count": 3,
   "metadata": {
    "collapsed": false
   },
   "outputs": [],
   "source": [
    "# using the abstract base class Callback to monitor test auPRC at each epoch. \n",
    "class TestCallback(Callback):\n",
    "    def __init__(self, test_data):\n",
    "        self.test_data = test_data\n",
    "\n",
    "    def on_epoch_end(self, epoch, logs={}):\n",
    "        x, y = self.test_data\n",
    "        probas = self.model.predict_on_batch(x)\n",
    "        auprc = sklearn.metrics.average_precision_score(y, probas)\n",
    "        #loss, acc = self.model.evaluate(x, y, verbose=0)\n",
    "        print('\\nTest auprc: {}\\n'.format(auprc))\n"
   ]
  },
  {
   "cell_type": "code",
   "execution_count": 4,
   "metadata": {
    "collapsed": false
   },
   "outputs": [],
   "source": [
    "def train_and_test(X_train, y_train, X_test, y_test, n):\n",
    "\n",
    "    model = keras_model()\n",
    "    sgd = SGD(lr=0.01, decay=1e-6, momentum=0.9, nesterov=True)\n",
    "    model.compile(loss='binary_crossentropy', optimizer=sgd, metrics=['accuracy'])\n",
    "    early_stopping = EarlyStopping(monitor='val_loss', patience=3, verbose=1)\n",
    "    hist = model.fit(X_train, y_train, validation_split=0.1, callbacks=[early_stopping, TestCallback((X_test_rs,y_test))], batch_size= 200, nb_epoch= 8)\n",
    "    #hist = model.fit(X_train, y_train, validation_split=0.1, batch_size= 200, shuffle = False, nb_epoch= 10)\n",
    "    print hist.history\n",
    "    probas = model.predict_on_batch(X_test_rs)\n",
    "    print sklearn.metrics.average_precision_score(y_test, probas)\n",
    "    np.savetxt(\"probas\", probas)\n",
    "    print \"Done\"\n",
    "    return model, probas"
   ]
  },
  {
   "cell_type": "code",
   "execution_count": 5,
   "metadata": {
    "collapsed": false,
    "scrolled": true
   },
   "outputs": [
    {
     "name": "stdout",
     "output_type": "stream",
     "text": [
      "Done\n"
     ]
    }
   ],
   "source": [
    "n = 200\n",
    "X,y = read.get_matrix(\"2class.txt\")\n",
    "X_train, X_test, y_train, y_test = train_test_split(X, y, test_size=0.1, random_state=42)\n",
    "print \"Done\""
   ]
  },
  {
   "cell_type": "code",
   "execution_count": 6,
   "metadata": {
    "collapsed": false
   },
   "outputs": [],
   "source": [
    "K.image_data_format()\n",
    "X_train_rs = np.reshape(X_train, (-1,200,4))\n",
    "X_test_rs = np.reshape(X_test, (-1,200,4))"
   ]
  },
  {
   "cell_type": "code",
   "execution_count": 7,
   "metadata": {
    "collapsed": false,
    "scrolled": false
   },
   "outputs": [
    {
     "name": "stdout",
     "output_type": "stream",
     "text": [
      "[[0 0 1 ..., 0 1 0]\n",
      " [0 1 0 ..., 0 1 0]\n",
      " [0 0 0 ..., 0 0 0]\n",
      " ..., \n",
      " [0 0 0 ..., 0 0 1]\n",
      " [1 0 0 ..., 0 0 1]\n",
      " [0 0 0 ..., 0 0 0]]\n",
      "[1 1 1 ..., 0 0 1]\n",
      "Start\n",
      "(None, 200, 4)\n",
      "(None, 200, 32)\n",
      "(None, 200, 32)\n",
      "(None, 1, 32)\n",
      "(None, 32)\n",
      "(None, 512)\n",
      "(None, 1)\n"
     ]
    },
    {
     "name": "stderr",
     "output_type": "stream",
     "text": [
      "/Users/divyanshisrivastava/anaconda/lib/python2.7/site-packages/Keras-2.0.3-py2.7.egg/keras/models.py:834: UserWarning: The `nb_epoch` argument in `fit` has been renamed `epochs`.\n",
      "  warnings.warn('The `nb_epoch` argument in `fit` '\n"
     ]
    },
    {
     "name": "stdout",
     "output_type": "stream",
     "text": [
      "Train on 22304 samples, validate on 2479 samples\n",
      "Epoch 1/8\n",
      "22200/22304 [============================>.] - ETA: 0s - loss: 0.6848 - acc: 0.5591\n",
      "Test auprc: 0.686371990622\n",
      "\n",
      "22304/22304 [==============================] - 3s - loss: 0.6848 - acc: 0.5592 - val_loss: 0.6805 - val_acc: 0.5539\n",
      "Epoch 2/8\n",
      "22200/22304 [============================>.] - ETA: 0s - loss: 0.6609 - acc: 0.6108\n",
      "Test auprc: 0.874927034528\n",
      "\n",
      "22304/22304 [==============================] - 3s - loss: 0.6607 - acc: 0.6115 - val_loss: 0.6166 - val_acc: 0.7430\n",
      "Epoch 3/8\n",
      "22000/22304 [============================>.] - ETA: 0s - loss: 0.4926 - acc: 0.8132\n",
      "Test auprc: 0.951066136744\n",
      "\n",
      "22304/22304 [==============================] - 3s - loss: 0.4906 - acc: 0.8140 - val_loss: 0.3510 - val_acc: 0.8701\n",
      "Epoch 4/8\n",
      "22200/22304 [============================>.] - ETA: 0s - loss: 0.2874 - acc: 0.8927\n",
      "Test auprc: 0.969254466397\n",
      "\n",
      "22304/22304 [==============================] - 3s - loss: 0.2872 - acc: 0.8928 - val_loss: 0.2457 - val_acc: 0.9096\n",
      "Epoch 5/8\n",
      "22200/22304 [============================>.] - ETA: 0s - loss: 0.2383 - acc: 0.9080\n",
      "Test auprc: 0.973138757477\n",
      "\n",
      "22304/22304 [==============================] - 3s - loss: 0.2388 - acc: 0.9077 - val_loss: 0.2200 - val_acc: 0.9133\n",
      "Epoch 6/8\n",
      "22000/22304 [============================>.] - ETA: 0s - loss: 0.2238 - acc: 0.9136\n",
      "Test auprc: 0.974887570489\n",
      "\n",
      "22304/22304 [==============================] - 3s - loss: 0.2232 - acc: 0.9139 - val_loss: 0.2132 - val_acc: 0.9161\n",
      "Epoch 7/8\n",
      "22200/22304 [============================>.] - ETA: 0s - loss: 0.2125 - acc: 0.9169\n",
      "Test auprc: 0.976107238957\n",
      "\n",
      "22304/22304 [==============================] - 3s - loss: 0.2124 - acc: 0.9170 - val_loss: 0.2092 - val_acc: 0.9197\n",
      "Epoch 8/8\n",
      "22200/22304 [============================>.] - ETA: 0s - loss: 0.2056 - acc: 0.9203\n",
      "Test auprc: 0.976659836533\n",
      "\n",
      "22304/22304 [==============================] - 3s - loss: 0.2058 - acc: 0.9202 - val_loss: 0.2093 - val_acc: 0.9209\n",
      "{'acc': [0.55922704630423137, 0.61150466497864575, 0.81397955425329493, 0.89279949378591017, 0.90772955487328588, 0.91387195402016086, 0.91701040373129006, 0.92023852535949713], 'loss': [0.68479210285836001, 0.66068325481421641, 0.49063620096342464, 0.28719451216983488, 0.23880794269688843, 0.22324055508099808, 0.21241103133007649, 0.20576134063784499], 'val_acc': [0.55385236751653344, 0.74304154850677795, 0.87010892092003467, 0.90964098217603706, 0.91327147488153571, 0.91609520176910209, 0.91972570409213117, 0.92093586832729735], 'val_loss': [0.68045146850483607, 0.61664079169969299, 0.3510277620988202, 0.24572821122569008, 0.21997878555931263, 0.21320981153344473, 0.20915219017626441, 0.20933365005550483]}\n",
      "0.976659836533\n",
      "Done\n",
      "Done\n"
     ]
    }
   ],
   "source": [
    "print X_train\n",
    "print y_train\n",
    "\n",
    "print \"Start\"\n",
    "model, probas = train_and_test(X_train_rs, y_train, X_test, y_test, n)\n",
    "print \"Done\""
   ]
  },
  {
   "cell_type": "code",
   "execution_count": 8,
   "metadata": {
    "collapsed": false
   },
   "outputs": [
    {
     "name": "stdout",
     "output_type": "stream",
     "text": [
      "0.970209393821\n"
     ]
    }
   ],
   "source": [
    "import matplotlib.pyplot as plt\n",
    "from sklearn.metrics import roc_auc_score\n",
    "from sklearn.metrics import roc_curve\n",
    "\n",
    "# compute area under the roc curve\n",
    "roc_auc = sklearn.metrics.roc_auc_score(y_test, probas)\n",
    "print roc_auc\n",
    "\n",
    "# compute the roc curve\n",
    "fpr, tpr, thresholds = roc_curve(y_test, probas, pos_label=1)\n",
    "\n",
    "plt.plot(fpr, tpr, color='darkorange', lw=2, label='ROC curve (area = %0.2f)' % roc_auc)\n",
    "plt.title(\"ROC curve\")\n",
    "plt.xlabel(\"True Positive Rate\")\n",
    "plt.ylabel(\"False Postive Rate\")\n",
    "plt.savefig(\"ROC Curve\")"
   ]
  },
  {
   "cell_type": "code",
   "execution_count": 9,
   "metadata": {
    "collapsed": false
   },
   "outputs": [
    {
     "name": "stdout",
     "output_type": "stream",
     "text": [
      "Trained miodel\n",
      "<keras.models.Sequential object at 0x10451af50>\n",
      "{'activation': 'sigmoid', 'trainable': True, 'name': 'activation_3'}\n"
     ]
    }
   ],
   "source": [
    "# Trained\n",
    "print \"Trained miodel\"\n",
    "print model\n",
    "print model.layers[-1].get_config()"
   ]
  },
  {
   "cell_type": "code",
   "execution_count": 11,
   "metadata": {
    "collapsed": false
   },
   "outputs": [],
   "source": [
    "## Using the fucntional API. This method returns a function to find saliency given input and learning phase. \n",
    "def compile_saliency_function(model):\n",
    "    \n",
    "    inp = model.layers[0].input\n",
    "    outp = model.layers[-1].output\n",
    "    print inp\n",
    "    print outp\n",
    "    max_output = K.max(outp, axis=1)\n",
    "    print max_output\n",
    "    saliency = K.gradients(K.sum(max_output), inp)[0]\n",
    "    print saliency\n",
    "    return K.function([inp, K.learning_phase()], [saliency])"
   ]
  },
  {
   "cell_type": "code",
   "execution_count": 12,
   "metadata": {
    "collapsed": false,
    "scrolled": true
   },
   "outputs": [
    {
     "name": "stdout",
     "output_type": "stream",
     "text": [
      "Tensor(\"conv1d_1_input:0\", shape=(?, 200, 4), dtype=float32)\n",
      "Tensor(\"activation_3/Sigmoid:0\", shape=(?, 1), dtype=float32)\n",
      "Tensor(\"Max:0\", shape=(?,), dtype=float32)\n",
      "Tensor(\"gradients_1/conv1d_1/convolution/ExpandDims_grad/Reshape:0\", shape=(?, 200, 4), dtype=float32)\n"
     ]
    }
   ],
   "source": [
    "## saliency_fn on the given model. \n",
    "saliency_fn = compile_saliency_function(model)"
   ]
  },
  {
   "cell_type": "code",
   "execution_count": 10,
   "metadata": {
    "collapsed": false
   },
   "outputs": [
    {
     "name": "stdout",
     "output_type": "stream",
     "text": [
      "(10, 200, 4)\n",
      "(200, 4)\n",
      "(4, 200)\n"
     ]
    }
   ],
   "source": [
    "## Computing Saliency. \n",
    "n = 200\n",
    "test_seq,_= read.get_matrix(\"class.B.txt\")\n",
    "test_seq_rs = np.reshape(test_seq, (-1,200,4))\n",
    "\n",
    "print X_train_rs[:10].shape\n",
    "\n",
    "arr_sal = saliency_fn([X_train_rs[:10], 0])\n",
    "outp = (np.asarray(arr_sal))[0][8]\n",
    "print outp.shape\n",
    "\n",
    "ta = np.transpose(outp)\n",
    "print ta.shape\n",
    "np.savetxt(\"check_saliency\",ta)"
   ]
  },
  {
   "cell_type": "code",
   "execution_count": 31,
   "metadata": {
    "collapsed": false
   },
   "outputs": [
    {
     "name": "stdout",
     "output_type": "stream",
     "text": [
      "[[ 0.27166364]\n",
      " [ 0.97004628]\n",
      " [ 0.70868981]\n",
      " ..., \n",
      " [ 0.18908246]\n",
      " [ 0.99059087]\n",
      " [ 0.98316056]]\n",
      "(2754, 1)\n",
      "(2754, 200, 4)\n",
      "(2754,)\n",
      "[1 1 1 ..., 0 1 1]\n"
     ]
    }
   ],
   "source": [
    "print probas\n",
    "print probas.shape\n",
    "print X_test_rs.shape\n",
    "print y_test.shape\n",
    "print y_test\n",
    "confidence= np.ravel(np.argsort(probas, axis = 0)[::-1])\n",
    "probas_sorted = probas[confidence]\n",
    "\n",
    "\n",
    "top = X_test_rs[confidence[:1500],:,:]\n",
    "topy = y_test[confidence[:1500]]\n",
    "top_probs = probas[confidence[:1500]]\n",
    "\n",
    "bottom  = X_test_rs[confidence[2054:],:,:]\n",
    "bottomy = y_test[confidence[2054:]]\n",
    "bottom_probs = probas[confidence[2054:]]"
   ]
  },
  {
   "cell_type": "code",
   "execution_count": 18,
   "metadata": {
    "collapsed": false
   },
   "outputs": [
    {
     "name": "stdout",
     "output_type": "stream",
     "text": [
      "[1017 1695 1872 ...,  614 2078  789]\n",
      "(100, 200, 4)\n",
      "(100, 200, 4)\n"
     ]
    }
   ],
   "source": [
    "## grad * input\n",
    "\n",
    "# Top are Ngn2\n",
    "# Bottom are Ascl1\n",
    "\n",
    "confidence= np.ravel(np.argsort(probas, axis = 0)[::-1])\n",
    "print confidence\n",
    "top = X_test_rs[confidence[:100],:,:]\n",
    "print top.shape\n",
    "print X_test_rs[:100].shape"
   ]
  },
  {
   "cell_type": "code",
   "execution_count": 38,
   "metadata": {
    "collapsed": false,
    "scrolled": false
   },
   "outputs": [
    {
     "name": "stdout",
     "output_type": "stream",
     "text": [
      "0\n",
      "[ 0.01516225]\n"
     ]
    },
    {
     "data": {
      "image/png": "[encoded data removed]",
      "text/plain": [
       "<matplotlib.figure.Figure at 0x13362cc10>"
      ]
     },
     "metadata": {},
     "output_type": "display_data"
    }
   ],
   "source": [
    "%matplotlib inline\n",
    "idx = 500 # Index we want to observe\n",
    "\n",
    "# Ngn2 is coded as 1. So top probs are predicting Ngn2.\n",
    "print bottomy[idx]\n",
    "print bottom_probs[idx]\n",
    "\n",
    "#print probas\n",
    "arr_sal = saliency_fn([top, 0])\n",
    "outp = (np.asarray(arr_sal))[0][idx]\n",
    "grad_star_inp = outp * bottom[idx]\n",
    "\n",
    "#change encoding order to match deeplift viz\n",
    "#print grad_star_inp\n",
    "\n",
    "dl_scores = np.transpose(np.vstack((grad_star_inp[:][:,0],grad_star_inp[:][:,3],grad_star_inp[:][:,2],\n",
    "                              grad_star_inp[:][:,1])))\n",
    "from deeplift.visualization import viz_sequence\n",
    "viz_sequence.plot_weights(dl_scores, subticks_frequency=10)"
   ]
  },
  {
   "cell_type": "code",
   "execution_count": 30,
   "metadata": {
    "collapsed": false
   },
   "outputs": [
    {
     "name": "stdout",
     "output_type": "stream",
     "text": [
      "(20, 4, 32)\n",
      "(32,)\n"
     ]
    }
   ],
   "source": [
    "## Interpreting Fitlers.\n",
    "W,b = model.layers[0].get_weights()\n",
    "print W.shape\n",
    "print b.shape\n",
    "\n",
    "# dim1 = filter length\n",
    "# dim2 = A,T,G,C\n",
    "# dim3 = filter number\n",
    "\n",
    "\n",
    "def get_filter(nb, W):\n",
    "    A = list()\n",
    "    T = list()\n",
    "    G = list()\n",
    "    C = list()\n",
    "    for position in range(20):\n",
    "        A.append(W[position][0][nb])\n",
    "        T.append(W[position][1][nb])\n",
    "        G.append(W[position][2][nb])\n",
    "        C.append(W[position][3][nb])\n",
    "        filter_cnn = np.vstack((A,T,G,C))\n",
    "        # So these are the weights of the 4 channels for the first filter\n",
    "        np.savetxt(\"filter\" + str(nb), filter_cnn)\n",
    "\n",
    "for i in range(32):\n",
    "    get_filter(i,W)"
   ]
  },
  {
   "cell_type": "code",
   "execution_count": null,
   "metadata": {
    "collapsed": true
   },
   "outputs": [],
   "source": [
    "# Serialising model to yaml\n",
    "yamlstr = model.to_yaml()"
   ]
  },
  {
   "cell_type": "code",
   "execution_count": 26,
   "metadata": {
    "collapsed": false
   },
   "outputs": [
    {
     "name": "stdout",
     "output_type": "stream",
     "text": [
      "Done\n"
     ]
    }
   ],
   "source": [
    "# Saving model as yaml file. (Switch to json. Was using yaml for deeplift compatibility but that doesn't work \n",
    "# for me yet anyway. )\n",
    "with open(\"CTCF_model.yaml\", \"w\") as yaml_file:\n",
    "    yaml_file.write(yamlstr)\n",
    "print \"Done\""
   ]
  }
 ],
 "metadata": {
  "kernelspec": {
   "display_name": "Python 2",
   "language": "python",
   "name": "python2"
  },
  "language_info": {
   "codemirror_mode": {
    "name": "ipython",
    "version": 2
   },
   "file_extension": ".py",
   "mimetype": "text/x-python",
   "name": "python",
   "nbconvert_exporter": "python",
   "pygments_lexer": "ipython2",
   "version": "2.7.12"
  }
 },
 "nbformat": 4,
 "nbformat_minor": 0
}
